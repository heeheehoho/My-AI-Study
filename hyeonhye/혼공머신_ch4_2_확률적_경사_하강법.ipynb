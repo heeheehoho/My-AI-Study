{
  "nbformat": 4,
  "nbformat_minor": 0,
  "metadata": {
    "colab": {
      "provenance": [],
      "authorship_tag": "ABX9TyNiNNEEEVhglGKIM53fR+4U",
      "include_colab_link": true
    },
    "kernelspec": {
      "name": "python3",
      "display_name": "Python 3"
    },
    "language_info": {
      "name": "python"
    }
  },
  "cells": [
    {
      "cell_type": "markdown",
      "metadata": {
        "id": "view-in-github",
        "colab_type": "text"
      },
      "source": [
        "<a href=\"https://colab.research.google.com/github/heeheehoho/My-AI-Study/blob/main/hyeonhye/%ED%98%BC%EA%B3%B5%EB%A8%B8%EC%8B%A0_ch4_2_%ED%99%95%EB%A5%A0%EC%A0%81_%EA%B2%BD%EC%82%AC_%ED%95%98%EA%B0%95%EB%B2%95.ipynb\" target=\"_parent\"><img src=\"https://colab.research.google.com/assets/colab-badge.svg\" alt=\"Open In Colab\"/></a>"
      ]
    },
    {
      "cell_type": "markdown",
      "source": [
        "<혼자 공부하는 머신러닝+딥러닝 4장 다양한 분류 알고리즘 - 2: 확률적 경사 하강법>"
      ],
      "metadata": {
        "id": "iLn656rCKFDm"
      }
    },
    {
      "cell_type": "markdown",
      "source": [
        "- 점진적인 학습\n",
        "  - 앞서 훈련한 모델을 버리지 않고 새로운 데이터에 대해서만 조금씩 더 훈련 -> 점진적 학습\n",
        "  - 대표적인 점진적 학습: 확률적 경가 하강법(Stochastic Gradient Descent)"
      ],
      "metadata": {
        "id": "oWWY79zEmoGm"
      }
    },
    {
      "cell_type": "markdown",
      "source": [
        "- 확률적 경사 하강법\n",
        "  - 확률적 경사 하강법에서 확률적이라는 말은 '무작위하게' 혹은 '랜덤하게'의 기술적인 표현이다.\n",
        "  - '경사'는 '이 언덕은 경사가 참 가파르군!'할 때 그 경사이다. 즉 기울기를 말하는 것\n",
        "  - '하강법'은 '내려가는 방법'이다.\n",
        "  - 다시 말해 경사 하강법은 경사를 따라 내려가는 방법을 말한다.\n",
        "  - 가장 빠른 길은 경사가 가장 가파른 길. 가장 가파른 경사를 따라 원하는 지점에 도달하는 것이 목표이다. 만약 한번에 걸음이 너무 크면 경사를 따라 내려가지 못하고 오히려 올라갈 수가 있다. 가장 가파른 길을 찾아 내려오지만 조금씩 내려오는 것이 중요하다.\n",
        "  - 전체 샘플을 사용하지 않고 딱 하나의 샘플을 훈련 세트에서 랜덤하게 골라 가장 가파른 길을 찾는다. 이처럼 훈련 세트에서 랜덤하게 하나의 샘플을 고르는 것이 '**확률적 경사 하강법**'이다.\n",
        "  - 확률적 경사 하강법은 훈련 세트에서 랜덤하게 하나의 샘플을 선택하여 가파른 경사를 조금 내려간다. 그 다음 훈련 세트에서 랜덤하게 또 다른 샘플을 하나 선택하여 경사를 조금 내려간다. 이런 식으로 전체 샘플을 모두 사용할 때까지 계속한다.\n",
        "  - 산을 다 내려오지 못했다면? 다시 처음부터 시작\n",
        "  - 훈련 세트를 한 번 모두 사용하는 과정을 **에포크(epoch)**라고 부른다.\n",
        "  - 여러 개의 샘플을 사용해 경사 하강법을 수행하는 방식: '**미니배치 경사 하강법(minibatch gradient descent)**'\n",
        "  - 한 번 경사로를 따라 이동하기 위해 전체 샘플을 사용: '배치 경사 하강법'"
      ],
      "metadata": {
        "id": "djY2amlZnEFx"
      }
    },
    {
      "cell_type": "markdown",
      "source": [
        "확률적 경사 하강법은 훈련 세트를 사용해 산 아래에 있는 최적의 장소로 조금씩 이동하는 알고리즘. </br>\n",
        "이 때문에 훈련 데이터가 모두 준비되어 있지 않고 매일매일 업데이트되어도 학습을 계속 이어나갈 수 있다. </br>즉 다시 산꼭대기에서부터 시작할 필요가 없다."
      ],
      "metadata": {
        "id": "LBIqlzn3NlyC"
      }
    },
    {
      "cell_type": "markdown",
      "source": [
        "- 확률적 경사 하강법과 신경망 알고리즘\n",
        "  - 신경망 알고리즘은 확률적 경사 하강법을 꼭 사용한다. 신경망은 일반적으로 많은 데이터를 사용하기 때문에 한 번에 모든 데이터를 사용하기 어렵다.\n",
        "  - 신경망 모델은 매우 복잡하기 때문에 수학적인 방법으로 해답을 얻기 어렵다.\n",
        "  - 신경망 모델이 확률적 경사 하강법이나 미니배치 경사 하강법을 사용한다는 점을 기억하자."
      ],
      "metadata": {
        "id": "8oA6PkhhOGIe"
      }
    },
    {
      "cell_type": "markdown",
      "source": [
        "- **손실 함수(loss function)**\n",
        "  - 손실 함수는 어떤 문제에서 머신러닝 알고리즘이 얼마나 엉터리인지를 측정하는 기준이다.\n",
        "  - 손실 함수의 값이 작을수록 좋다. 어떤 값이 최솟값인지는 알지 못한다. 가능한 많이 찾아보고 만족할만한 수준이라면 산을 다 내려왔다고 인정해야 한다.\n",
        "  - 우리가 다루는 많은 문제에 필요한 손실 함수는 이미 정의되어 있다.\n",
        "  - **비용 함수(cost function)**는 손실 함수의 다른 말이다. 엄밀히 말하면 손실 함수는 샘플 하나에 대한 손실을 정의하고 비용 함수는 훈련 세트에 있는 모든 샘플에 대한 손실 함수의 합을 말한다. 하지만 보통 이 둘을 엄격히 구분하지 않고 섞어서 사용한다.\n",
        "  - 정확도가 듬성듬성하면 경사 하강법을 사용할 수 없다. 산의 경사면은 연속적이어야 한다. 기술적으로 말하면 손실 함수는 미분 가능해야 한다."
      ],
      "metadata": {
        "id": "W2BumSSXOdhq"
      }
    },
    {
      "cell_type": "markdown",
      "source": [
        "- **로지스틱 손실 함수(logistic loss function)** (어렵)\n",
        "  - 또는 이진 크로스엔트로피 손실 함수(binary cross-entropy loss function)이라고 부른다.\n",
        "  - 로지스틱 손실 함수를 사용하면 로지스틱 회귀 모델이 만들어진다."
      ],
      "metadata": {
        "id": "AT1bGJuqPoun"
      }
    },
    {
      "cell_type": "markdown",
      "source": [
        "이진 분류 - 로지스틱 손실 함수 사용 </br>\n",
        "다중 분류 - **크로스엔트로피 손실 함수(cross-entropy loss function)** 사용 </br>\n",
        "회귀 - 평균 절댓값 오차 또는 **평균 제곱 오차(mean squared error**, 타깃에서 예측을 뺀 값을 제곱한 다음 모든 샘플에 평균한 값) 사용 </br>\n",
        "! 손실 함수가 무엇인지. 왜 정의를 해야 하는지 이해하는 것이 중요 ! 직접 계산할 일은 없음\n"
      ],
      "metadata": {
        "id": "N13VX-eDSpCQ"
      }
    },
    {
      "cell_type": "markdown",
      "source": [
        "- SGDClassifier"
      ],
      "metadata": {
        "id": "3YrSvSeuTZnS"
      }
    },
    {
      "cell_type": "code",
      "execution_count": null,
      "metadata": {
        "id": "8CrrQ28QKCkJ"
      },
      "outputs": [],
      "source": [
        "import pandas as pd\n",
        "fish = pd.read_csv('https://bit.ly/fish_csv_data')"
      ]
    },
    {
      "cell_type": "code",
      "source": [
        "fish_input = fish[['Weight','Length','Diagonal','Height','Width']].to_numpy() # Species 열을 제외한 5개는 입력 데이터로 사용\n",
        "fish_target = fish['Species'].to_numpy() # Species 열은 타깃 데이터"
      ],
      "metadata": {
        "id": "jBkwzlm3TuHm"
      },
      "execution_count": null,
      "outputs": []
    },
    {
      "cell_type": "code",
      "source": [
        "# 사이킷런의 train_test_split() 함수를 사용해 이 데이터를 훈련 세트와 테스트 세트로 나눈다\n",
        "\n",
        "from sklearn.model_selection import train_test_split\n",
        "train_input, test_input, train_target, test_target = train_test_split(fish_input, fish_target, random_state=42)"
      ],
      "metadata": {
        "id": "GkvtHp55m5za"
      },
      "execution_count": null,
      "outputs": []
    },
    {
      "cell_type": "code",
      "source": [
        "# 훈련 세트와 테스트 세트의 특성을 표준화 전처리한다. 꼭 훈련 세트에서 학습한 통계값으로 테스트 세트도 변환해야 한다\n",
        "\n",
        "from sklearn.preprocessing import StandardScaler\n",
        "ss = StandardScaler()\n",
        "ss.fit(train_input)\n",
        "train_scaled = ss.transform(train_input)\n",
        "test_scaled = ss.transform(test_input)"
      ],
      "metadata": {
        "id": "KrBw2IZZnKfV"
      },
      "execution_count": null,
      "outputs": []
    },
    {
      "cell_type": "code",
      "source": [
        "# 사이킷런에서 확률적 경사 하강법을 제공하는 대표적인 분류용 클래스는 SGDClassifier\n",
        "\n",
        "from sklearn.linear_model import SGDClassifier"
      ],
      "metadata": {
        "id": "FCtmfdMtnxnJ"
      },
      "execution_count": null,
      "outputs": []
    },
    {
      "cell_type": "code",
      "source": [
        "# SGDClassifer의 객체를 만들 때 2개의 매개변수를 지정.\n",
        "# 로지스틱 손실 함수 지정, 수행할 에포크 횟수 지정\n",
        "\n",
        "sc = SGDClassifier(loss='log_loss', max_iter=10, random_state=42)\n",
        "sc.fit(train_scaled, train_target)\n",
        "print(sc.score(train_scaled, train_target))\n",
        "print(sc.score(test_scaled, test_target))"
      ],
      "metadata": {
        "colab": {
          "base_uri": "https://localhost:8080/"
        },
        "id": "nYPYW-Mon_qt",
        "outputId": "0e66a382-9e14-4943-9ecf-e26f39012c66"
      },
      "execution_count": null,
      "outputs": [
        {
          "output_type": "stream",
          "name": "stdout",
          "text": [
            "0.773109243697479\n",
            "0.775\n"
          ]
        },
        {
          "output_type": "stream",
          "name": "stderr",
          "text": [
            "/usr/local/lib/python3.10/dist-packages/sklearn/linear_model/_stochastic_gradient.py:702: ConvergenceWarning: Maximum number of iteration reached before convergence. Consider increasing max_iter to improve the fit.\n",
            "  warnings.warn(\n"
          ]
        }
      ]
    },
    {
      "cell_type": "code",
      "source": [
        "# partial_fit() 메서드는 호출할 때 마다 1 에포크씩 이어서 훈련할 수 있다\n",
        "\n",
        "sc.partial_fit(train_scaled, train_target)\n",
        "print(sc.score(train_scaled, train_target))\n",
        "print(sc.score(test_scaled, test_target))"
      ],
      "metadata": {
        "colab": {
          "base_uri": "https://localhost:8080/"
        },
        "id": "zrerBhjAow2k",
        "outputId": "f9c1a8ad-4c65-4866-84c1-2375a414ccde"
      },
      "execution_count": null,
      "outputs": [
        {
          "output_type": "stream",
          "name": "stdout",
          "text": [
            "0.8151260504201681\n",
            "0.85\n"
          ]
        }
      ]
    },
    {
      "cell_type": "markdown",
      "source": [
        "- 에포크와 과대/과소적합\n",
        "  - 적은 에포크 횟수: 과소적합된 모델\n",
        "  - 많은 에포크 횟수: 과대적합된 모델\n",
        "  - 과대적합이 시작하기 전에 훈련을 멈추는 것을 조기 종료(early stopping)이라고 한다."
      ],
      "metadata": {
        "id": "q-k7jQacpN6K"
      }
    },
    {
      "cell_type": "code",
      "source": [
        "import numpy as np\n",
        "sc = SGDClassifier(loss='log_loss', random_state=42)\n",
        "train_score = []\n",
        "test_score = []\n",
        "classes = np.unique(train_target) # partial_fit() 메서드만 사용하려면 훈련 세트에 있는 전체 클래스의 레이블을 partial_fit() 메서드에 전달해 주어야 한다"
      ],
      "metadata": {
        "id": "c5zbFaS6pQCG"
      },
      "execution_count": null,
      "outputs": []
    },
    {
      "cell_type": "code",
      "source": [
        "for _ in range(0, 300): # 파이썬에서 _는 특별한 변수. 나중에 사용하지 않고 그냥 버리는 값을 넣어두는 용도로 사용한다. 여기서는 0에서 299까지 반복 횟수를 임시 저장하기 위한 용도로 사용\n",
        "  sc.partial_fit(train_scaled, train_target, classes=classes)\n",
        "  train_score.append(sc.score(train_scaled, train_target))\n",
        "  test_score.append(sc.score(test_scaled, test_target))"
      ],
      "metadata": {
        "id": "X2JqWL-zqCHS"
      },
      "execution_count": null,
      "outputs": []
    },
    {
      "cell_type": "code",
      "source": [
        "import matplotlib.pyplot as plt\n",
        "plt.plot(train_score)\n",
        "plt.plot(test_score)\n",
        "plt.xlabel('epoch')\n",
        "plt.ylabel('accuracy')\n",
        "plt.show()"
      ],
      "metadata": {
        "colab": {
          "base_uri": "https://localhost:8080/",
          "height": 449
        },
        "id": "7yDz4QLsqiv9",
        "outputId": "19f6c652-c9b9-4a27-e2a9-93ef4942f133"
      },
      "execution_count": null,
      "outputs": [
        {
          "output_type": "display_data",
          "data": {
            "text/plain": [
              "<Figure size 640x480 with 1 Axes>"
            ],
            "image/png": "[encoded data removed]"
          },
          "metadata": {}
        }
      ]
    },
    {
      "cell_type": "code",
      "source": [
        "sc = SGDClassifier(loss='log_loss', max_iter=100, tol=None, random_state=42) # tol 변수를 None으로 지정하여 자동으로 멈추지 않고 max_iter 100만큼 무조건 반복하도록 함\n",
        "sc.fit(train_scaled, train_target)"
      ],
      "metadata": {
        "colab": {
          "base_uri": "https://localhost:8080/",
          "height": 74
        },
        "id": "DspuYLqYquVP",
        "outputId": "e5a8bfda-292f-4ce0-df94-49b035ce16f7"
      },
      "execution_count": null,
      "outputs": [
        {
          "output_type": "execute_result",
          "data": {
            "text/plain": [
              "SGDClassifier(loss='log_loss', max_iter=100, random_state=42, tol=None)"
            ],
            "text/html": [
              "<style>#sk-container-id-2 {color: black;background-color: white;}#sk-container-id-2 pre{padding: 0;}#sk-container-id-2 div.sk-toggleable {background-color: white;}#sk-container-id-2 label.sk-toggleable__label {cursor: pointer;display: block;width: 100%;margin-bottom: 0;padding: 0.3em;box-sizing: border-box;text-align: center;}#sk-container-id-2 label.sk-toggleable__label-arrow:before {content: \"▸\";float: left;margin-right: 0.25em;color: #696969;}#sk-container-id-2 label.sk-toggleable__label-arrow:hover:before {color: black;}#sk-container-id-2 div.sk-estimator:hover label.sk-toggleable__label-arrow:before {color: black;}#sk-container-id-2 div.sk-toggleable__content {max-height: 0;max-width: 0;overflow: hidden;text-align: left;background-color: #f0f8ff;}#sk-container-id-2 div.sk-toggleable__content pre {margin: 0.2em;color: black;border-radius: 0.25em;background-color: #f0f8ff;}#sk-container-id-2 input.sk-toggleable__control:checked~div.sk-toggleable__content {max-height: 200px;max-width: 100%;overflow: auto;}#sk-container-id-2 input.sk-toggleable__control:checked~label.sk-toggleable__label-arrow:before {content: \"▾\";}#sk-container-id-2 div.sk-estimator input.sk-toggleable__control:checked~label.sk-toggleable__label {background-color: #d4ebff;}#sk-container-id-2 div.sk-label input.sk-toggleable__control:checked~label.sk-toggleable__label {background-color: #d4ebff;}#sk-container-id-2 input.sk-hidden--visually {border: 0;clip: rect(1px 1px 1px 1px);clip: rect(1px, 1px, 1px, 1px);height: 1px;margin: -1px;overflow: hidden;padding: 0;position: absolute;width: 1px;}#sk-container-id-2 div.sk-estimator {font-family: monospace;background-color: #f0f8ff;border: 1px dotted black;border-radius: 0.25em;box-sizing: border-box;margin-bottom: 0.5em;}#sk-container-id-2 div.sk-estimator:hover {background-color: #d4ebff;}#sk-container-id-2 div.sk-parallel-item::after {content: \"\";width: 100%;border-bottom: 1px solid gray;flex-grow: 1;}#sk-container-id-2 div.sk-label:hover label.sk-toggleable__label {background-color: #d4ebff;}#sk-container-id-2 div.sk-serial::before {content: \"\";position: absolute;border-left: 1px solid gray;box-sizing: border-box;top: 0;bottom: 0;left: 50%;z-index: 0;}#sk-container-id-2 div.sk-serial {display: flex;flex-direction: column;align-items: center;background-color: white;padding-right: 0.2em;padding-left: 0.2em;position: relative;}#sk-container-id-2 div.sk-item {position: relative;z-index: 1;}#sk-container-id-2 div.sk-parallel {display: flex;align-items: stretch;justify-content: center;background-color: white;position: relative;}#sk-container-id-2 div.sk-item::before, #sk-container-id-2 div.sk-parallel-item::before {content: \"\";position: absolute;border-left: 1px solid gray;box-sizing: border-box;top: 0;bottom: 0;left: 50%;z-index: -1;}#sk-container-id-2 div.sk-parallel-item {display: flex;flex-direction: column;z-index: 1;position: relative;background-color: white;}#sk-container-id-2 div.sk-parallel-item:first-child::after {align-self: flex-end;width: 50%;}#sk-container-id-2 div.sk-parallel-item:last-child::after {align-self: flex-start;width: 50%;}#sk-container-id-2 div.sk-parallel-item:only-child::after {width: 0;}#sk-container-id-2 div.sk-dashed-wrapped {border: 1px dashed gray;margin: 0 0.4em 0.5em 0.4em;box-sizing: border-box;padding-bottom: 0.4em;background-color: white;}#sk-container-id-2 div.sk-label label {font-family: monospace;font-weight: bold;display: inline-block;line-height: 1.2em;}#sk-container-id-2 div.sk-label-container {text-align: center;}#sk-container-id-2 div.sk-container {/* jupyter's `normalize.less` sets `[hidden] { display: none; }` but bootstrap.min.css set `[hidden] { display: none !important; }` so we also need the `!important` here to be able to override the default hidden behavior on the sphinx rendered scikit-learn.org. See: https://github.com/scikit-learn/scikit-learn/issues/21755 */display: inline-block !important;position: relative;}#sk-container-id-2 div.sk-text-repr-fallback {display: none;}</style><div id=\"sk-container-id-2\" class=\"sk-top-container\"><div class=\"sk-text-repr-fallback\"><pre>SGDClassifier(loss=&#x27;log_loss&#x27;, max_iter=100, random_state=42, tol=None)</pre><b>In a Jupyter environment, please rerun this cell to show the HTML representation or trust the notebook. <br />On GitHub, the HTML representation is unable to render, please try loading this page with nbviewer.org.</b></div><div class=\"sk-container\" hidden><div class=\"sk-item\"><div class=\"sk-estimator sk-toggleable\"><input class=\"sk-toggleable__control sk-hidden--visually\" id=\"sk-estimator-id-2\" type=\"checkbox\" checked><label for=\"sk-estimator-id-2\" class=\"sk-toggleable__label sk-toggleable__label-arrow\">SGDClassifier</label><div class=\"sk-toggleable__content\"><pre>SGDClassifier(loss=&#x27;log_loss&#x27;, max_iter=100, random_state=42, tol=None)</pre></div></div></div></div></div>"
            ]
          },
          "metadata": {},
          "execution_count": 19
        }
      ]
    },
    {
      "cell_type": "code",
      "source": [
        "print(sc.score(train_scaled, train_target))\n",
        "print(sc.score(test_scaled, test_target))"
      ],
      "metadata": {
        "colab": {
          "base_uri": "https://localhost:8080/"
        },
        "id": "-PfHnQN1rKVr",
        "outputId": "85ad7cf2-ae94-4b25-9aa0-cb4c4797a34a"
      },
      "execution_count": null,
      "outputs": [
        {
          "output_type": "stream",
          "name": "stdout",
          "text": [
            "0.957983193277311\n",
            "0.925\n"
          ]
        }
      ]
    },
    {
      "cell_type": "markdown",
      "source": [
        "SGDClassifier의 loss 매개변수 기본값은 'hinge' </br>\n",
        "**힌지 손실(hinge loss)**은 **서포트 벡터 머신(support vector machine)**이라 불리는 또 다른 머신러닝 알고리즘을 위한 손실 함수 </br></br>\n",
        "! 서포트 벡터 머신이 널리 사용하는 머신러닝 알고리즘 중 하나라는 점 ! </br>\n",
        "! SGDClassifer가 여러 종류의 손실 함수를 loss 매개변수에 지정하여 다양한 머신러닝 알고리즘을 지원한다는 것 !"
      ],
      "metadata": {
        "id": "El1s_2lDr3uF"
      }
    },
    {
      "cell_type": "code",
      "source": [
        "# 힌지 손실을 사용해 같은 반복 횟수 동안 모델을 훈련해 보자\n",
        "\n",
        "sc = SGDClassifier(loss='hinge', max_iter=100, tol=None, random_state=42)\n",
        "sc.fit(train_scaled, train_target)\n",
        "print(sc.score(train_scaled, train_target))\n",
        "print(sc.score(test_scaled, test_target))"
      ],
      "metadata": {
        "colab": {
          "base_uri": "https://localhost:8080/"
        },
        "id": "uRbgYkJ6runM",
        "outputId": "5486f67c-d13f-4ed6-9c74-1c30e59e4d29"
      },
      "execution_count": null,
      "outputs": [
        {
          "output_type": "stream",
          "name": "stdout",
          "text": [
            "0.9495798319327731\n",
            "0.925\n"
          ]
        }
      ]
    },
    {
      "cell_type": "markdown",
      "source": [
        "- 마무리\n",
        "  - 확률적 경사 하강법\n",
        "    - 확률적 경사 하강법은 훈련 세트에서 샘플 하나씩 꺼내 손실 함수의 경사를 따라 최적의 모델을 찾는 알고리즘이다.\n",
        "    - 샘플을 하나씩 사용하지 않고 여러 개를 사용하면 미니배치 경사 하강법이 된다\n",
        "    - 한 번에 전체 샘플을 사용하면 배치 경사 하강법이 된다.\n",
        "  - 손실 함수\n",
        "    - 손실 함수는 확률적 경사 하강법이 최적화할 대상이다.\n",
        "    - 대부분의 문제에 잘 맞는 손실 함수는 이미 정의되어 있다.\n",
        "    - 이진분류-로지스틱 회귀 / 다중분류-크로스엔트로피 / 회귀 문제-평균제곱오차\n",
        "  - 에포크\n",
        "    - 에포크는 확률적 경사 하강법에서 전체 샘플을 모두 사용하는 한 번 반복을 의미한다.\n",
        "    - 일반적으로 경사 하강법 알고리즘은 수십에서 수백 번의 에포크를 반복한다.\n",
        "  - SGDClassifier는 확률적 경사 하강법을 사용한 분류 모델을 만든다.\n",
        "  - SGDRegressor는 확률적 경사 하강법을 사용한 회귀 모델을 만든다.\n"
      ],
      "metadata": {
        "id": "2xN5dJCatbN6"
      }
    }
  ]
}